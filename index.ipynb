{
 "cells": [
  {
   "cell_type": "markdown",
   "metadata": {
    "ein.tags": "worksheet-0",
    "slideshow": {
     "slide_type": "-"
    }
   },
   "source": [
    "# Mod 2 Code Challenge Review\n",
    "\n",
    "You've come a long way with this material\n",
    "\n",
    "Close out strong\n",
    "\n",
    "![](https://media.giphy.com/media/f8mFljwmfesZHvC0YP/giphy.gif)"
   ]
  },
  {
   "cell_type": "code",
   "execution_count": 2,
   "metadata": {
    "ExecuteTime": {
     "end_time": "2021-07-09T12:51:15.446602Z",
     "start_time": "2021-07-09T12:51:07.392019Z"
    },
    "autoscroll": false,
    "ein.hycell": false,
    "ein.tags": "worksheet-0",
    "slideshow": {
     "slide_type": "-"
    }
   },
   "outputs": [],
   "source": [
    "from scipy import stats\n",
    "import pandas as pd \n",
    "import numpy as np\n",
    "from src.student_caller import one_random_student, three_random_students\n",
    "from src.student_caller import three_random_students"
   ]
  },
  {
   "cell_type": "markdown",
   "metadata": {
    "ein.tags": "worksheet-0",
    "slideshow": {
     "slide_type": "-"
    }
   },
   "source": [
    "# TOC:  \n",
    "  - [Bayes](#bayes)  \n",
    "  - [Hypothesis Tests](#hypo_test)  \n",
    "  - [Regression](#regression)\n",
    "\n"
   ]
  },
  {
   "cell_type": "markdown",
   "metadata": {},
   "source": [
    "<a id=\"bayes\"></a>"
   ]
  },
  {
   "cell_type": "markdown",
   "metadata": {},
   "source": [
    "# Bayes\n",
    "\n",
    "$\\large P(A|B) = \\frac{P(A) \\times P(B|A)}{p(B)}$"
   ]
  },
  {
   "cell_type": "markdown",
   "metadata": {},
   "source": [
    "![puppy_bowl](https://media.giphy.com/media/RZtgTyrPNR9T0tN4nL/giphy.gif)"
   ]
  },
  {
   "cell_type": "markdown",
   "metadata": {
    "ein.tags": "worksheet-0",
    "slideshow": {
     "slide_type": "-"
    }
   },
   "source": [
    "\n",
    "Thomas wants to get a new puppy 🐕 🐶 🐩\n",
    "He can choose to get his new puppy either from the pet store or the pound. The probability of him going to the pet store is $0.2$.\n",
    "He can choose to get either a big, medium or small puppy.\n",
    "\n",
    "If he goes to the pet store, the probability of him getting a small puppy is $0.6$. The probability of him getting a medium puppy is $0.3$, and the probability of him getting a large puppy is $0.1$.\n",
    "\n",
    "If he goes to the pound, the probability of him getting a small puppy is $0.1$. The probability of him getting a medium puppy is $0.35$, and the probability of him getting a large puppy is $0.55$.\n"
   ]
  },
  {
   "cell_type": "markdown",
   "metadata": {
    "ein.tags": "worksheet-0",
    "slideshow": {
     "slide_type": "-"
    }
   },
   "source": [
    "1) What is the probability of Thomas getting a small puppy?"
   ]
  },
  {
   "cell_type": "markdown",
   "metadata": {
    "ein.tags": "worksheet-0",
    "slideshow": {
     "slide_type": "-"
    }
   },
   "source": [
    "> Your answer here.  Write out your process in addition to your final numeric answer.\n"
   ]
  },
  {
   "cell_type": "code",
   "execution_count": 3,
   "metadata": {
    "ExecuteTime": {
     "end_time": "2021-07-09T12:51:15.462598Z",
     "start_time": "2021-07-09T12:51:15.449601Z"
    }
   },
   "outputs": [],
   "source": [
    "def bayes(P_a, P_b, P_b_given_a):\n",
    "    P_a_given_b = (P_b_given_a*P_a)/(P_b)\n",
    "    return P_a_given_b"
   ]
  },
  {
   "cell_type": "code",
   "execution_count": 4,
   "metadata": {
    "ExecuteTime": {
     "end_time": "2021-07-09T12:51:15.477599Z",
     "start_time": "2021-07-09T12:51:15.466601Z"
    }
   },
   "outputs": [],
   "source": [
    "p_store = 0.2\n",
    "p_pound = 1 - p_store\n",
    "\n",
    "p_small_given_store = 0.6\n",
    "p_med_given_store = 0.3\n",
    "p_large_given_store = 0.1\n",
    "\n",
    "p_small_given_pound = 0.1\n",
    "p_med_given_pound = 0.35\n",
    "p_large_given_pound = 0.55"
   ]
  },
  {
   "cell_type": "code",
   "execution_count": 5,
   "metadata": {
    "ExecuteTime": {
     "end_time": "2021-07-09T12:51:15.493602Z",
     "start_time": "2021-07-09T12:51:15.480601Z"
    }
   },
   "outputs": [
    {
     "data": {
      "text/plain": [
       "0.2"
      ]
     },
     "execution_count": 5,
     "metadata": {},
     "output_type": "execute_result"
    }
   ],
   "source": [
    "p_small = p_small_given_store*p_store + p_small_given_pound*p_pound\n",
    "p_small"
   ]
  },
  {
   "cell_type": "markdown",
   "metadata": {
    "ein.tags": "worksheet-0",
    "slideshow": {
     "slide_type": "-"
    }
   },
   "source": [
    "2) Given that he got a large puppy, what is the probability that Thomas went to the pet store?"
   ]
  },
  {
   "cell_type": "markdown",
   "metadata": {
    "ein.tags": "worksheet-0",
    "slideshow": {
     "slide_type": "-"
    }
   },
   "source": [
    "Your answer here.  Write out your process in addition to your final numeric answer."
   ]
  },
  {
   "cell_type": "code",
   "execution_count": 6,
   "metadata": {
    "ExecuteTime": {
     "end_time": "2021-07-09T12:51:15.508600Z",
     "start_time": "2021-07-09T12:51:15.496603Z"
    }
   },
   "outputs": [
    {
     "data": {
      "text/plain": [
       "0.4600000000000001"
      ]
     },
     "execution_count": 6,
     "metadata": {},
     "output_type": "execute_result"
    }
   ],
   "source": [
    "p_large = p_large_given_pound*p_pound + p_large_given_store*p_store\n",
    "p_large"
   ]
  },
  {
   "cell_type": "code",
   "execution_count": 7,
   "metadata": {
    "ExecuteTime": {
     "end_time": "2021-07-09T12:51:15.524602Z",
     "start_time": "2021-07-09T12:51:15.511601Z"
    }
   },
   "outputs": [
    {
     "data": {
      "text/plain": [
       "0.043478260869565216"
      ]
     },
     "execution_count": 7,
     "metadata": {},
     "output_type": "execute_result"
    }
   ],
   "source": [
    "# ## P_a_given_b = (P_b_given_a*P_a)/(P_b)\n",
    "# ## P_a = petstore\n",
    "# ## P_b = large\n",
    "\n",
    "p_pet_store_given_large =  bayes(p_store, p_large, p_large_given_store)\n",
    "p_pet_store_given_large"
   ]
  },
  {
   "cell_type": "code",
   "execution_count": 8,
   "metadata": {
    "ExecuteTime": {
     "end_time": "2021-07-09T12:51:15.540601Z",
     "start_time": "2021-07-09T12:51:15.528602Z"
    }
   },
   "outputs": [
    {
     "data": {
      "text/plain": [
       "0.043478260869565216"
      ]
     },
     "execution_count": 8,
     "metadata": {},
     "output_type": "execute_result"
    }
   ],
   "source": [
    "p_pet_store_given_large = bayes(p_store, p_large, p_large_given_store)\n",
    "\n",
    "p_pet_store_given_large"
   ]
  },
  {
   "cell_type": "markdown",
   "metadata": {},
   "source": [
    "# Z-Score\n",
    "\n",
    "We know the average for SAT scores for math as a whole in the U.S. in 2019 is 531 with a standard deviation of 104.\n",
    "\n",
    "Calculate the z-score associated with a math score of 650.\n"
   ]
  },
  {
   "cell_type": "code",
   "execution_count": 76,
   "metadata": {
    "ExecuteTime": {
     "end_time": "2021-07-09T13:56:15.510192Z",
     "start_time": "2021-07-09T13:56:15.490194Z"
    }
   },
   "outputs": [
    {
     "data": {
      "text/plain": [
       "1.1442307692307692"
      ]
     },
     "execution_count": 76,
     "metadata": {},
     "output_type": "execute_result"
    }
   ],
   "source": [
    "mu = 531\n",
    "sigma = 104\n",
    "n=1\n",
    "x_bar = 650\n",
    "\n",
    "z_score = (650 - 531)/104\n",
    "\n",
    "# z = (x_bar - mu)/(sigma/np.sqrt(n))\n",
    "# p = 1 - stats.norm.cdf(z)\n",
    "\n",
    "z_score"
   ]
  },
  {
   "cell_type": "code",
   "execution_count": 79,
   "metadata": {
    "ExecuteTime": {
     "end_time": "2021-07-09T13:57:21.528519Z",
     "start_time": "2021-07-09T13:57:21.521511Z"
    }
   },
   "outputs": [],
   "source": [
    "# (650 - 531)/(104/np.sqrt(1))"
   ]
  },
  {
   "cell_type": "code",
   "execution_count": 73,
   "metadata": {
    "ExecuteTime": {
     "end_time": "2021-07-09T13:55:35.533760Z",
     "start_time": "2021-07-09T13:55:35.521775Z"
    }
   },
   "outputs": [
    {
     "data": {
      "text/plain": [
       "1.1495327102803738"
      ]
     },
     "execution_count": 73,
     "metadata": {},
     "output_type": "execute_result"
    }
   ],
   "source": [
    "math_mu = 527\n",
    "math_std = 107\n",
    "student_score = 650\n",
    "z_score = (student_score - math_mu)/math_std\n",
    "z_score"
   ]
  },
  {
   "cell_type": "markdown",
   "metadata": {
    "ein.tags": "worksheet-0",
    "slideshow": {
     "slide_type": "-"
    }
   },
   "source": [
    "## Hypothesis Testing: Exercise 1\n",
    "\n",
    "An SAT prep class of 40 students takes the SAT and gets the following math scores:\n"
   ]
  },
  {
   "cell_type": "code",
   "execution_count": 10,
   "metadata": {
    "ExecuteTime": {
     "end_time": "2021-07-09T12:51:15.587599Z",
     "start_time": "2021-07-09T12:51:15.575603Z"
    }
   },
   "outputs": [],
   "source": [
    "prep_class_scores = [434, 694, 457, 534, 720, \n",
    "                     400, 484, 478, 610, 641,\n",
    "                     425, 636, 654, 514, 563, \n",
    "                     370, 499, 640, 501, 625, \n",
    "                     519, 471, 598, 509, 531, \n",
    "                     511, 675, 450, 485, 507, \n",
    "                     550, 612, 542, 633, 575, \n",
    "                     595, 508, 499, 490, 597, \n",
    "                     522, 504, 650, 430, 400]"
   ]
  },
  {
   "cell_type": "markdown",
   "metadata": {
    "ein.tags": "worksheet-0",
    "slideshow": {
     "slide_type": "-"
    }
   },
   "source": [
    "Did this SAT prep class result in a significantly greater mean score than population average?"
   ]
  },
  {
   "cell_type": "markdown",
   "metadata": {
    "autoscroll": false,
    "ein.hycell": false,
    "ein.tags": "worksheet-0",
    "slideshow": {
     "slide_type": "-"
    }
   },
   "source": [
    "**H_0:** The mean score of the class is not significantly greater than the population average"
   ]
  },
  {
   "cell_type": "markdown",
   "metadata": {},
   "source": [
    "**H_1:** The mean score of the class is significantly greater than the population average"
   ]
  },
  {
   "cell_type": "code",
   "execution_count": 11,
   "metadata": {
    "ExecuteTime": {
     "end_time": "2021-07-09T12:51:15.603601Z",
     "start_time": "2021-07-09T12:51:15.590603Z"
    }
   },
   "outputs": [],
   "source": [
    "# Choose alpha\n",
    "alpha = .05"
   ]
  },
  {
   "cell_type": "code",
   "execution_count": 12,
   "metadata": {
    "ExecuteTime": {
     "end_time": "2021-07-09T12:51:15.618598Z",
     "start_time": "2021-07-09T12:51:15.606602Z"
    }
   },
   "outputs": [],
   "source": [
    "# What test are we using?\n",
    "\n",
    "# One sample Z-test \"right-tailed z-test\""
   ]
  },
  {
   "cell_type": "code",
   "execution_count": 13,
   "metadata": {
    "ExecuteTime": {
     "end_time": "2021-07-09T12:51:15.634600Z",
     "start_time": "2021-07-09T12:51:15.620601Z"
    }
   },
   "outputs": [],
   "source": [
    "# What is the critical statistic?\n",
    "\n",
    "# crit_stat = stats.norm.sf(.95) # this will give us the probability to the right of the z-score\n",
    "\n",
    "critical_z = stats.norm.ppf(.95)"
   ]
  },
  {
   "cell_type": "code",
   "execution_count": 15,
   "metadata": {
    "ExecuteTime": {
     "end_time": "2021-07-09T12:51:31.978894Z",
     "start_time": "2021-07-09T12:51:31.966863Z"
    }
   },
   "outputs": [],
   "source": [
    "# What is the sample statistic?\n",
    "\n",
    "# z = (np.mean(prep_class_scores) - math_mu)/math_std\n",
    "# z"
   ]
  },
  {
   "cell_type": "code",
   "execution_count": 16,
   "metadata": {
    "ExecuteTime": {
     "end_time": "2021-07-09T12:51:31.994862Z",
     "start_time": "2021-07-09T12:51:31.981860Z"
    }
   },
   "outputs": [
    {
     "data": {
      "text/plain": [
       "0.30945992319922266"
      ]
     },
     "execution_count": 16,
     "metadata": {},
     "output_type": "execute_result"
    }
   ],
   "source": [
    "# What is the p-value?\n",
    "\n",
    "x_bar = np.mean(prep_class_scores)\n",
    "n = len(prep_class_scores)\n",
    "mu = 531\n",
    "sigma = 104\n",
    "\n",
    "z = (x_bar - mu)/(sigma/np.sqrt(n))\n",
    "p = 1 - stats.norm.cdf(z)\n",
    "\n",
    "p"
   ]
  },
  {
   "cell_type": "code",
   "execution_count": 17,
   "metadata": {
    "ExecuteTime": {
     "end_time": "2021-07-09T12:51:32.025877Z",
     "start_time": "2021-07-09T12:51:31.996861Z"
    }
   },
   "outputs": [
    {
     "data": {
      "text/plain": [
       "(0.6115491063715065, 0.271991569644979)"
      ]
     },
     "execution_count": 17,
     "metadata": {},
     "output_type": "execute_result"
    }
   ],
   "source": [
    "t, p = stats.ttest_1samp(a=prep_class_scores, popmean=mu, alternative='greater')\n",
    "t, p"
   ]
  },
  {
   "cell_type": "markdown",
   "metadata": {},
   "source": [
    "> Come to a conclusion w.r.t. the null hypothesis\n",
    "\n",
    "We fail to reject the null hypothesis as the p-value exceeds our alpha threshold of .05."
   ]
  },
  {
   "cell_type": "markdown",
   "metadata": {},
   "source": [
    "> What is a type I error in this example (in plain English)\n",
    "\n",
    "Saying the class's mean score is statistically higher than the population average when it's not."
   ]
  },
  {
   "cell_type": "markdown",
   "metadata": {},
   "source": [
    "> What is a type II error in plain English\n",
    "\n",
    "Saying the class's mean score is not statistically higher than the population average when it is."
   ]
  },
  {
   "cell_type": "code",
   "execution_count": 18,
   "metadata": {
    "ExecuteTime": {
     "end_time": "2021-07-09T12:51:32.040870Z",
     "start_time": "2021-07-09T12:51:32.030874Z"
    }
   },
   "outputs": [],
   "source": [
    "# ## Create a 90% confidence interval using the sample data. \n",
    "\n",
    "# low = (x_bar - z)/sigma\n",
    "# high = (x_bar + z)/sigma\n",
    "\n",
    "# low, high"
   ]
  },
  {
   "cell_type": "code",
   "execution_count": 19,
   "metadata": {
    "ExecuteTime": {
     "end_time": "2021-07-09T12:51:32.056862Z",
     "start_time": "2021-07-09T12:51:32.043864Z"
    }
   },
   "outputs": [],
   "source": [
    "# x_bar - z * std / np.sqrt(n)"
   ]
  },
  {
   "cell_type": "code",
   "execution_count": 20,
   "metadata": {
    "ExecuteTime": {
     "end_time": "2021-07-09T12:51:32.072864Z",
     "start_time": "2021-07-09T12:51:32.058865Z"
    }
   },
   "outputs": [
    {
     "name": "stdout",
     "output_type": "stream",
     "text": [
      "517.5248483935754 559.8973738286468\n"
     ]
    }
   ],
   "source": [
    "## Calculating a confidence interval\n",
    "## Based on: alpha, n observations, mean, standard deviation\n",
    "\n",
    "conf_low, conf_high = stats.t.interval(alpha=.9, df = n-1, loc = x_bar, scale = stats.sem(prep_class_scores))\n",
    "print(conf_low, conf_high)"
   ]
  },
  {
   "cell_type": "markdown",
   "metadata": {},
   "source": [
    "## Hypothesis Testing: Exercise 2"
   ]
  },
  {
   "cell_type": "markdown",
   "metadata": {
    "ein.tags": "worksheet-0",
    "slideshow": {
     "slide_type": "-"
    }
   },
   "source": [
    "You are an archeologist.  Not Indiana Jones, the non-violent kind.  And at two sites you come across a series of shards from pots.\n",
    "\n",
    "You know from your archeologist training that different thicknesses at the lip of the pots indicate different ceremonial functions.  \n",
    "\n",
    "You want to test the two samples of shard thickness to see if the thickness is due to chance at the two sites.\n",
    "\n",
    "Sample 1 has slightly thinner shards overall, so you want to test if the mean of sample 1 lip thickness is less than the mean of sample 2 lip thickness.  \n",
    "\n",
    "Assume that the two sample variances are equal."
   ]
  },
  {
   "cell_type": "code",
   "execution_count": 21,
   "metadata": {
    "ExecuteTime": {
     "end_time": "2021-07-09T12:51:32.088861Z",
     "start_time": "2021-07-09T12:51:32.075863Z"
    }
   },
   "outputs": [],
   "source": [
    "sample_1 = [17.4715, 20.0386, 12.6012, 20.4401, 22.4969,\n",
    "            9.8613, 19.6289, 9.7741, 5.9123, 17.4448, \n",
    "            10.1237, 24.9357, 15.9265, 7.9955, 17.6675, \n",
    "            13.6029, 17.8812, 16.4178, 5.1385, 7.0984, \n",
    "            18.1181, 20.2681, 14.7372, 7.1021, 16.7546]\n"
   ]
  },
  {
   "cell_type": "code",
   "execution_count": 22,
   "metadata": {
    "ExecuteTime": {
     "end_time": "2021-07-09T12:51:32.103898Z",
     "start_time": "2021-07-09T12:51:32.091864Z"
    }
   },
   "outputs": [],
   "source": [
    "sample_2 =  [19.7475, 19.8387, 12.6873, 17.6973, 19.0878, \n",
    "             30.5562, 14.5291, 14.7627, 14.3439, 12.5745, \n",
    "             11.0734, 19.4998, 18.3869, 10.7374, 18.0030, \n",
    "             18.1730, 18.8374, 17.9287, 14.3563, 18.6004, \n",
    "             11.7280, 12.2898, 21.0552, 21.4184, 25.5953]\n"
   ]
  },
  {
   "cell_type": "markdown",
   "metadata": {
    "ExecuteTime": {
     "end_time": "2021-07-08T20:24:47.416711Z",
     "start_time": "2021-07-08T20:24:43.885Z"
    },
    "autoscroll": false,
    "ein.hycell": false,
    "ein.tags": "worksheet-0",
    "slideshow": {
     "slide_type": "-"
    }
   },
   "source": [
    "**Define Null/Alternative Hypotheses**\n",
    "\n",
    ">H_0: The mean of sample 1 lip thickness is greater than or equal to the mean of sample 2 lip thickness\n",
    "\n",
    ">H_1: The mean of sample 1 lip thickness is less than the mean of sample 2 lip thickness\n"
   ]
  },
  {
   "cell_type": "code",
   "execution_count": 23,
   "metadata": {
    "ExecuteTime": {
     "end_time": "2021-07-09T12:51:32.118891Z",
     "start_time": "2021-07-09T12:51:32.105863Z"
    }
   },
   "outputs": [],
   "source": [
    "# Choose alpha\n",
    "\n",
    "alpha = .05"
   ]
  },
  {
   "cell_type": "code",
   "execution_count": 24,
   "metadata": {
    "ExecuteTime": {
     "end_time": "2021-07-09T12:51:32.134892Z",
     "start_time": "2021-07-09T12:51:32.120861Z"
    }
   },
   "outputs": [],
   "source": [
    "# What test are we using?\n",
    "\n",
    "# Left-tailed 2 sample t-test of independence"
   ]
  },
  {
   "cell_type": "code",
   "execution_count": 25,
   "metadata": {
    "ExecuteTime": {
     "end_time": "2021-07-09T12:51:32.150892Z",
     "start_time": "2021-07-09T12:51:32.136883Z"
    }
   },
   "outputs": [
    {
     "data": {
      "text/plain": [
       "(-1.7711939693439105, 0.04143876135782809)"
      ]
     },
     "execution_count": 25,
     "metadata": {},
     "output_type": "execute_result"
    }
   ],
   "source": [
    "# What is the critical statistic?\n",
    "t_stat, p_value = stats.ttest_ind(sample_1, sample_2, alternative='less')\n",
    "t_stat, p_value"
   ]
  },
  {
   "cell_type": "code",
   "execution_count": 26,
   "metadata": {
    "ExecuteTime": {
     "end_time": "2021-07-09T12:51:32.166865Z",
     "start_time": "2021-07-09T12:51:32.153862Z"
    }
   },
   "outputs": [],
   "source": [
    "# Use statsmodels to run the appropriate test.\n"
   ]
  },
  {
   "cell_type": "markdown",
   "metadata": {
    "ExecuteTime": {
     "end_time": "2021-07-08T20:24:47.425710Z",
     "start_time": "2021-07-08T20:24:43.901Z"
    }
   },
   "source": [
    "> Come to a conclusion w.r.t. the null hypothesis\n",
    "\n",
    "Since the p-value of .04 is less than our threshold of .05, we can reject the null hypothesis and say there is evidence that sample 1 has a smaller mean thickness"
   ]
  },
  {
   "cell_type": "markdown",
   "metadata": {
    "ExecuteTime": {
     "end_time": "2021-07-08T20:24:47.427711Z",
     "start_time": "2021-07-08T20:24:43.905Z"
    }
   },
   "source": [
    "> What is a type I error in plain English\n",
    "\n",
    "T1: If we say the average thickness of sample 1 is less than the average thickness of sample 2 when it's not less than the average thickness"
   ]
  },
  {
   "cell_type": "markdown",
   "metadata": {
    "ExecuteTime": {
     "end_time": "2021-07-08T20:24:47.428712Z",
     "start_time": "2021-07-08T20:24:43.909Z"
    }
   },
   "source": [
    "> What is a type II error in plain English\n",
    "\n",
    "T2: If we say the average thickness of sample 1 is not less than the average thickness of sample 2 when it is less than the average thickness."
   ]
  },
  {
   "cell_type": "markdown",
   "metadata": {
    "ein.tags": "worksheet-0",
    "slideshow": {
     "slide_type": "-"
    }
   },
   "source": [
    "### Hypothesis Testing: Example 3\n",
    "#### T-test question 1\n",
    "\n",
    "Samples of diastolic blood pressure were taken from a sample of 20 female doctors"
   ]
  },
  {
   "cell_type": "code",
   "execution_count": 27,
   "metadata": {
    "ExecuteTime": {
     "end_time": "2021-07-09T12:51:32.182865Z",
     "start_time": "2021-07-09T12:51:32.168864Z"
    }
   },
   "outputs": [],
   "source": [
    "fem_docs_dbp = [128,127,118,115,144,\n",
    "                142,133,140,132,131,\n",
    "                111,132,149,122,139,\n",
    "                119,136,129,126,128]\n",
    "\n",
    "mu_f_bp = 120\n",
    "\n",
    "n=len(fem_docs_dbp)"
   ]
  },
  {
   "cell_type": "markdown",
   "metadata": {
    "ein.tags": "worksheet-0",
    "slideshow": {
     "slide_type": "-"
    }
   },
   "source": [
    "The mean female population diastolic blood pressure is 120\n",
    "\n",
    "Are female doctor diastolic blood pressures significantly higher than the female population's?"
   ]
  },
  {
   "cell_type": "markdown",
   "metadata": {},
   "source": [
    "**H_0:** Female doctor diastolic blood pressures are not significantly higher than the he mean female population diastolic blood pressure of 120\n",
    "\n",
    "**H_1:** Female doctor diastolic blood pressures are significantly higher than the he mean female population diastolic blood pressure of 120\n"
   ]
  },
  {
   "cell_type": "code",
   "execution_count": 28,
   "metadata": {
    "ExecuteTime": {
     "end_time": "2021-07-09T12:51:32.198862Z",
     "start_time": "2021-07-09T12:51:32.184866Z"
    }
   },
   "outputs": [],
   "source": [
    "# Choose an alpha\n",
    "\n",
    "a = .05"
   ]
  },
  {
   "cell_type": "code",
   "execution_count": 29,
   "metadata": {
    "ExecuteTime": {
     "end_time": "2021-07-09T12:51:32.214862Z",
     "start_time": "2021-07-09T12:51:32.200878Z"
    }
   },
   "outputs": [
    {
     "name": "stdout",
     "output_type": "stream",
     "text": [
      "Significant at alpha 0.05, p-value of 0.00011919031815483877. We can reject the null hypothesis.\n"
     ]
    }
   ],
   "source": [
    "# run the appropriate t-test in statsmodels and make a conclusion\n",
    "\n",
    "t_stat, p_value = stats.ttest_1samp(fem_docs_dbp, mu_f_bp, alternative='greater')\n",
    "\n",
    "if p_value < a:\n",
    "    print(f'Significant at alpha {a}, p-value of {p_value}. We can reject the null hypothesis.')\n",
    "else:\n",
    "    print(f'Not significant at alpha {a}, p-value of {p_value}. We fail to reject the null hypothesis.')"
   ]
  },
  {
   "cell_type": "markdown",
   "metadata": {
    "ExecuteTime": {
     "end_time": "2021-07-08T20:24:47.440713Z",
     "start_time": "2021-07-08T20:24:43.928Z"
    }
   },
   "source": [
    "**Type I Error in plain English**\n",
    "> If the blood pressures are not significantly higher despite our assertion that they are."
   ]
  },
  {
   "cell_type": "markdown",
   "metadata": {
    "ExecuteTime": {
     "end_time": "2021-07-08T20:24:47.443716Z",
     "start_time": "2021-07-08T20:24:43.930Z"
    }
   },
   "source": [
    "**Type II Error in plain English**\n",
    "> There would be a significant difference despite an assertion there is not a difference."
   ]
  },
  {
   "cell_type": "code",
   "execution_count": 69,
   "metadata": {
    "ExecuteTime": {
     "end_time": "2021-07-09T12:57:56.193547Z",
     "start_time": "2021-07-09T12:57:56.174517Z"
    }
   },
   "outputs": [
    {
     "name": "stdout",
     "output_type": "stream",
     "text": [
      "(92.38, 147.62)\n"
     ]
    }
   ],
   "source": [
    "# Calculate the 98% confidence interval given the array of sample blood pressures\n",
    "\n",
    "conf_low, conf_high = stats.t.interval(alpha=.99, df = len(fem_docs_dbp)-1, \n",
    "                                       loc = 120,\n",
    "                                       scale = stats.sem(fem_docs_dbp, ddof=1))\n",
    "\n",
    "print(f\"({conf_low:.2f}, {conf_high:.2f})\")"
   ]
  },
  {
   "cell_type": "markdown",
   "metadata": {},
   "source": [
    "<a id='regression'></a>"
   ]
  },
  {
   "cell_type": "markdown",
   "metadata": {
    "autoscroll": false,
    "ein.hycell": false,
    "ein.tags": "worksheet-0",
    "slideshow": {
     "slide_type": "-"
    }
   },
   "source": [
    "# Linear Regression"
   ]
  },
  {
   "cell_type": "code",
   "execution_count": 31,
   "metadata": {
    "ExecuteTime": {
     "end_time": "2021-07-09T12:51:33.527488Z",
     "start_time": "2021-07-09T12:51:32.232863Z"
    },
    "autoscroll": false,
    "ein.hycell": false,
    "ein.tags": "worksheet-0",
    "slideshow": {
     "slide_type": "-"
    }
   },
   "outputs": [],
   "source": [
    "from sklearn.datasets import load_diabetes"
   ]
  },
  {
   "cell_type": "code",
   "execution_count": 32,
   "metadata": {
    "ExecuteTime": {
     "end_time": "2021-07-09T12:51:33.542532Z",
     "start_time": "2021-07-09T12:51:33.529480Z"
    }
   },
   "outputs": [],
   "source": [
    "# import sklearn\n",
    "# help(sklearn.datasets.load_diabetes)"
   ]
  },
  {
   "cell_type": "code",
   "execution_count": 33,
   "metadata": {
    "ExecuteTime": {
     "end_time": "2021-07-09T12:51:33.574532Z",
     "start_time": "2021-07-09T12:51:33.544481Z"
    },
    "scrolled": false
   },
   "outputs": [],
   "source": [
    "data = load_diabetes()"
   ]
  },
  {
   "cell_type": "code",
   "execution_count": 34,
   "metadata": {
    "ExecuteTime": {
     "end_time": "2021-07-09T12:51:33.590477Z",
     "start_time": "2021-07-09T12:51:33.576490Z"
    }
   },
   "outputs": [],
   "source": [
    "# print(data.DESCR)"
   ]
  },
  {
   "cell_type": "markdown",
   "metadata": {},
   "source": [
    "### **Creating dataframe for LR** <a name='dataframe'></a>"
   ]
  },
  {
   "cell_type": "code",
   "execution_count": 35,
   "metadata": {
    "ExecuteTime": {
     "end_time": "2021-07-09T12:51:33.605481Z",
     "start_time": "2021-07-09T12:51:33.592477Z"
    }
   },
   "outputs": [],
   "source": [
    "df = pd.concat([pd.DataFrame(data.target, columns=['target']),\n",
    "                pd.DataFrame(data.data, columns=data.feature_names)\n",
    "               ], axis=1)"
   ]
  },
  {
   "cell_type": "markdown",
   "metadata": {},
   "source": [
    "### Statsmodels Linear Regression "
   ]
  },
  {
   "cell_type": "code",
   "execution_count": 36,
   "metadata": {
    "ExecuteTime": {
     "end_time": "2021-07-09T12:51:33.899508Z",
     "start_time": "2021-07-09T12:51:33.607479Z"
    }
   },
   "outputs": [],
   "source": [
    "from statsmodels.formula.api import ols"
   ]
  },
  {
   "cell_type": "code",
   "execution_count": 37,
   "metadata": {
    "ExecuteTime": {
     "end_time": "2021-07-09T12:51:33.915479Z",
     "start_time": "2021-07-09T12:51:33.904494Z"
    }
   },
   "outputs": [],
   "source": [
    "# df.info()"
   ]
  },
  {
   "cell_type": "code",
   "execution_count": 38,
   "metadata": {
    "ExecuteTime": {
     "end_time": "2021-07-09T12:51:33.931282Z",
     "start_time": "2021-07-09T12:51:33.917478Z"
    }
   },
   "outputs": [],
   "source": [
    "# df.nunique()"
   ]
  },
  {
   "cell_type": "code",
   "execution_count": 39,
   "metadata": {
    "ExecuteTime": {
     "end_time": "2021-07-09T12:51:34.010245Z",
     "start_time": "2021-07-09T12:51:33.934252Z"
    }
   },
   "outputs": [
    {
     "data": {
      "text/html": [
       "<div>\n",
       "<style scoped>\n",
       "    .dataframe tbody tr th:only-of-type {\n",
       "        vertical-align: middle;\n",
       "    }\n",
       "\n",
       "    .dataframe tbody tr th {\n",
       "        vertical-align: top;\n",
       "    }\n",
       "\n",
       "    .dataframe thead th {\n",
       "        text-align: right;\n",
       "    }\n",
       "</style>\n",
       "<table border=\"1\" class=\"dataframe\">\n",
       "  <thead>\n",
       "    <tr style=\"text-align: right;\">\n",
       "      <th></th>\n",
       "      <th>num_unique</th>\n",
       "      <th>DTypes</th>\n",
       "      <th>NaN_sum</th>\n",
       "      <th>NaN_pct</th>\n",
       "    </tr>\n",
       "  </thead>\n",
       "  <tbody>\n",
       "    <tr>\n",
       "      <th>target</th>\n",
       "      <td>214</td>\n",
       "      <td>float64</td>\n",
       "      <td>0</td>\n",
       "      <td>0.0</td>\n",
       "    </tr>\n",
       "    <tr>\n",
       "      <th>age</th>\n",
       "      <td>58</td>\n",
       "      <td>float64</td>\n",
       "      <td>0</td>\n",
       "      <td>0.0</td>\n",
       "    </tr>\n",
       "    <tr>\n",
       "      <th>sex</th>\n",
       "      <td>2</td>\n",
       "      <td>float64</td>\n",
       "      <td>0</td>\n",
       "      <td>0.0</td>\n",
       "    </tr>\n",
       "    <tr>\n",
       "      <th>bmi</th>\n",
       "      <td>163</td>\n",
       "      <td>float64</td>\n",
       "      <td>0</td>\n",
       "      <td>0.0</td>\n",
       "    </tr>\n",
       "    <tr>\n",
       "      <th>bp</th>\n",
       "      <td>100</td>\n",
       "      <td>float64</td>\n",
       "      <td>0</td>\n",
       "      <td>0.0</td>\n",
       "    </tr>\n",
       "    <tr>\n",
       "      <th>s1</th>\n",
       "      <td>141</td>\n",
       "      <td>float64</td>\n",
       "      <td>0</td>\n",
       "      <td>0.0</td>\n",
       "    </tr>\n",
       "    <tr>\n",
       "      <th>s2</th>\n",
       "      <td>302</td>\n",
       "      <td>float64</td>\n",
       "      <td>0</td>\n",
       "      <td>0.0</td>\n",
       "    </tr>\n",
       "    <tr>\n",
       "      <th>s3</th>\n",
       "      <td>63</td>\n",
       "      <td>float64</td>\n",
       "      <td>0</td>\n",
       "      <td>0.0</td>\n",
       "    </tr>\n",
       "    <tr>\n",
       "      <th>s4</th>\n",
       "      <td>66</td>\n",
       "      <td>float64</td>\n",
       "      <td>0</td>\n",
       "      <td>0.0</td>\n",
       "    </tr>\n",
       "    <tr>\n",
       "      <th>s5</th>\n",
       "      <td>184</td>\n",
       "      <td>float64</td>\n",
       "      <td>0</td>\n",
       "      <td>0.0</td>\n",
       "    </tr>\n",
       "    <tr>\n",
       "      <th>s6</th>\n",
       "      <td>56</td>\n",
       "      <td>float64</td>\n",
       "      <td>0</td>\n",
       "      <td>0.0</td>\n",
       "    </tr>\n",
       "  </tbody>\n",
       "</table>\n",
       "</div>"
      ],
      "text/plain": [
       "        num_unique   DTypes  NaN_sum  NaN_pct\n",
       "target         214  float64        0      0.0\n",
       "age             58  float64        0      0.0\n",
       "sex              2  float64        0      0.0\n",
       "bmi            163  float64        0      0.0\n",
       "bp             100  float64        0      0.0\n",
       "s1             141  float64        0      0.0\n",
       "s2             302  float64        0      0.0\n",
       "s3              63  float64        0      0.0\n",
       "s4              66  float64        0      0.0\n",
       "s5             184  float64        0      0.0\n",
       "s6              56  float64        0      0.0"
      ]
     },
     "execution_count": 39,
     "metadata": {},
     "output_type": "execute_result"
    }
   ],
   "source": [
    "report_df = pd.DataFrame({'num_unique':df.nunique(),\n",
    "              'DTypes':df.dtypes,\n",
    "              'NaN_sum':df.isna().sum(),\n",
    "              'NaN_pct':df.isna().sum()/len(df)})\n",
    "report_df"
   ]
  },
  {
   "cell_type": "markdown",
   "metadata": {},
   "source": [
    "The stasmodels ols from formula.api take a formula as the first argument.  \n"
   ]
  },
  {
   "cell_type": "code",
   "execution_count": 40,
   "metadata": {
    "ExecuteTime": {
     "end_time": "2021-07-09T12:51:34.026249Z",
     "start_time": "2021-07-09T12:51:34.013251Z"
    }
   },
   "outputs": [],
   "source": [
    "# Create a formula which incorporates sex, bmi, and bp.\n",
    "formula = 'target ~ sex + bmi + bp'"
   ]
  },
  {
   "cell_type": "code",
   "execution_count": 41,
   "metadata": {
    "ExecuteTime": {
     "end_time": "2021-07-09T12:51:34.167248Z",
     "start_time": "2021-07-09T12:51:34.029250Z"
    }
   },
   "outputs": [],
   "source": [
    "# feed the formula and dataframe into an instance of the ols class\n",
    "# chain the fit method off the end to train the model\n",
    "model = ols(formula, df).fit()"
   ]
  },
  {
   "cell_type": "code",
   "execution_count": 42,
   "metadata": {
    "ExecuteTime": {
     "end_time": "2021-07-09T12:51:34.215249Z",
     "start_time": "2021-07-09T12:51:34.170250Z"
    }
   },
   "outputs": [
    {
     "data": {
      "text/html": [
       "<table class=\"simpletable\">\n",
       "<caption>OLS Regression Results</caption>\n",
       "<tr>\n",
       "  <th>Dep. Variable:</th>         <td>target</td>      <th>  R-squared:         </th> <td>   0.400</td>\n",
       "</tr>\n",
       "<tr>\n",
       "  <th>Model:</th>                   <td>OLS</td>       <th>  Adj. R-squared:    </th> <td>   0.396</td>\n",
       "</tr>\n",
       "<tr>\n",
       "  <th>Method:</th>             <td>Least Squares</td>  <th>  F-statistic:       </th> <td>   97.25</td>\n",
       "</tr>\n",
       "<tr>\n",
       "  <th>Date:</th>             <td>Fri, 09 Jul 2021</td> <th>  Prob (F-statistic):</th> <td>2.97e-48</td>\n",
       "</tr>\n",
       "<tr>\n",
       "  <th>Time:</th>                 <td>08:51:34</td>     <th>  Log-Likelihood:    </th> <td> -2434.3</td>\n",
       "</tr>\n",
       "<tr>\n",
       "  <th>No. Observations:</th>      <td>   442</td>      <th>  AIC:               </th> <td>   4877.</td>\n",
       "</tr>\n",
       "<tr>\n",
       "  <th>Df Residuals:</th>          <td>   438</td>      <th>  BIC:               </th> <td>   4893.</td>\n",
       "</tr>\n",
       "<tr>\n",
       "  <th>Df Model:</th>              <td>     3</td>      <th>                     </th>     <td> </td>   \n",
       "</tr>\n",
       "<tr>\n",
       "  <th>Covariance Type:</th>      <td>nonrobust</td>    <th>                     </th>     <td> </td>   \n",
       "</tr>\n",
       "</table>\n",
       "<table class=\"simpletable\">\n",
       "<tr>\n",
       "      <td></td>         <th>coef</th>     <th>std err</th>      <th>t</th>      <th>P>|t|</th>  <th>[0.025</th>    <th>0.975]</th>  \n",
       "</tr>\n",
       "<tr>\n",
       "  <th>Intercept</th> <td>  152.1335</td> <td>    2.851</td> <td>   53.369</td> <td> 0.000</td> <td>  146.531</td> <td>  157.736</td>\n",
       "</tr>\n",
       "<tr>\n",
       "  <th>sex</th>       <td> -102.8869</td> <td>   61.752</td> <td>   -1.666</td> <td> 0.096</td> <td> -224.255</td> <td>   18.481</td>\n",
       "</tr>\n",
       "<tr>\n",
       "  <th>bmi</th>       <td>  789.5259</td> <td>   65.250</td> <td>   12.100</td> <td> 0.000</td> <td>  661.284</td> <td>  917.768</td>\n",
       "</tr>\n",
       "<tr>\n",
       "  <th>bp</th>        <td>  427.3481</td> <td>   66.970</td> <td>    6.381</td> <td> 0.000</td> <td>  295.726</td> <td>  558.970</td>\n",
       "</tr>\n",
       "</table>\n",
       "<table class=\"simpletable\">\n",
       "<tr>\n",
       "  <th>Omnibus:</th>       <td> 9.707</td> <th>  Durbin-Watson:     </th> <td>   1.936</td>\n",
       "</tr>\n",
       "<tr>\n",
       "  <th>Prob(Omnibus):</th> <td> 0.008</td> <th>  Jarque-Bera (JB):  </th> <td>   6.367</td>\n",
       "</tr>\n",
       "<tr>\n",
       "  <th>Skew:</th>          <td> 0.143</td> <th>  Prob(JB):          </th> <td>  0.0414</td>\n",
       "</tr>\n",
       "<tr>\n",
       "  <th>Kurtosis:</th>      <td> 2.487</td> <th>  Cond. No.          </th> <td>    27.8</td>\n",
       "</tr>\n",
       "</table><br/><br/>Notes:<br/>[1] Standard Errors assume that the covariance matrix of the errors is correctly specified."
      ],
      "text/plain": [
       "<class 'statsmodels.iolib.summary.Summary'>\n",
       "\"\"\"\n",
       "                            OLS Regression Results                            \n",
       "==============================================================================\n",
       "Dep. Variable:                 target   R-squared:                       0.400\n",
       "Model:                            OLS   Adj. R-squared:                  0.396\n",
       "Method:                 Least Squares   F-statistic:                     97.25\n",
       "Date:                Fri, 09 Jul 2021   Prob (F-statistic):           2.97e-48\n",
       "Time:                        08:51:34   Log-Likelihood:                -2434.3\n",
       "No. Observations:                 442   AIC:                             4877.\n",
       "Df Residuals:                     438   BIC:                             4893.\n",
       "Df Model:                           3                                         \n",
       "Covariance Type:            nonrobust                                         \n",
       "==============================================================================\n",
       "                 coef    std err          t      P>|t|      [0.025      0.975]\n",
       "------------------------------------------------------------------------------\n",
       "Intercept    152.1335      2.851     53.369      0.000     146.531     157.736\n",
       "sex         -102.8869     61.752     -1.666      0.096    -224.255      18.481\n",
       "bmi          789.5259     65.250     12.100      0.000     661.284     917.768\n",
       "bp           427.3481     66.970      6.381      0.000     295.726     558.970\n",
       "==============================================================================\n",
       "Omnibus:                        9.707   Durbin-Watson:                   1.936\n",
       "Prob(Omnibus):                  0.008   Jarque-Bera (JB):                6.367\n",
       "Skew:                           0.143   Prob(JB):                       0.0414\n",
       "Kurtosis:                       2.487   Cond. No.                         27.8\n",
       "==============================================================================\n",
       "\n",
       "Notes:\n",
       "[1] Standard Errors assume that the covariance matrix of the errors is correctly specified.\n",
       "\"\"\""
      ]
     },
     "execution_count": 42,
     "metadata": {},
     "output_type": "execute_result"
    }
   ],
   "source": [
    "# run the summary method off the end of the fit model \n",
    "model.summary()"
   ]
  },
  {
   "cell_type": "code",
   "execution_count": 43,
   "metadata": {
    "ExecuteTime": {
     "end_time": "2021-07-09T12:51:34.231249Z",
     "start_time": "2021-07-09T12:51:34.218252Z"
    }
   },
   "outputs": [],
   "source": [
    "# Within this model, which features are statistically significant?\n",
    "# bmi, bp"
   ]
  },
  {
   "cell_type": "code",
   "execution_count": 44,
   "metadata": {
    "ExecuteTime": {
     "end_time": "2021-07-09T12:51:34.247249Z",
     "start_time": "2021-07-09T12:51:34.234248Z"
    }
   },
   "outputs": [],
   "source": [
    "# Which features increase results in an increase in the predicted value?\n",
    "# bp"
   ]
  },
  {
   "cell_type": "code",
   "execution_count": 45,
   "metadata": {
    "ExecuteTime": {
     "end_time": "2021-07-09T12:51:34.262249Z",
     "start_time": "2021-07-09T12:51:34.250249Z"
    }
   },
   "outputs": [
    {
     "data": {
      "text/plain": [
       "['age', 'sex', 'bmi', 'bp', 's1', 's2', 's3', 's4', 's5', 's6']"
      ]
     },
     "execution_count": 45,
     "metadata": {},
     "output_type": "execute_result"
    }
   ],
   "source": [
    "list(df.drop('target', axis=1).columns)"
   ]
  },
  {
   "cell_type": "code",
   "execution_count": 46,
   "metadata": {
    "ExecuteTime": {
     "end_time": "2021-07-09T12:51:34.278250Z",
     "start_time": "2021-07-09T12:51:34.265250Z"
    }
   },
   "outputs": [
    {
     "data": {
      "text/plain": [
       "'age+sex+bmi+bp+s1+s2+s3+s4+s5+s6'"
      ]
     },
     "execution_count": 46,
     "metadata": {},
     "output_type": "execute_result"
    }
   ],
   "source": [
    "# Now, build another model using all of the available features\n",
    "feats = df.drop('target', axis=1)\n",
    "feats_list = list(feats.columns)\n",
    "feats_list = '+'.join(feats_list)\n",
    "feats_list"
   ]
  },
  {
   "cell_type": "code",
   "execution_count": 47,
   "metadata": {
    "ExecuteTime": {
     "end_time": "2021-07-09T12:51:34.293249Z",
     "start_time": "2021-07-09T12:51:34.281249Z"
    }
   },
   "outputs": [
    {
     "data": {
      "text/plain": [
       "'age+sex+bmi+bp+s1+s2+s3+s4+s5+s6'"
      ]
     },
     "execution_count": 47,
     "metadata": {},
     "output_type": "execute_result"
    }
   ],
   "source": [
    "feast_list2 = '+'.join(list(df.drop('target', axis=1).columns))\n",
    "feast_list2"
   ]
  },
  {
   "cell_type": "code",
   "execution_count": 48,
   "metadata": {
    "ExecuteTime": {
     "end_time": "2021-07-09T12:51:34.308248Z",
     "start_time": "2021-07-09T12:51:34.296249Z"
    }
   },
   "outputs": [
    {
     "data": {
      "text/plain": [
       "'target ~ + age+sex+bmi+bp+s1+s2+s3+s4+s5+s6'"
      ]
     },
     "execution_count": 48,
     "metadata": {},
     "output_type": "execute_result"
    }
   ],
   "source": [
    "formula = f'target ~ + {feast_list2}'\n",
    "formula"
   ]
  },
  {
   "cell_type": "code",
   "execution_count": 49,
   "metadata": {
    "ExecuteTime": {
     "end_time": "2021-07-09T12:51:34.386249Z",
     "start_time": "2021-07-09T12:51:34.311250Z"
    }
   },
   "outputs": [
    {
     "data": {
      "text/html": [
       "<table class=\"simpletable\">\n",
       "<caption>OLS Regression Results</caption>\n",
       "<tr>\n",
       "  <th>Dep. Variable:</th>         <td>target</td>      <th>  R-squared:         </th> <td>   0.518</td>\n",
       "</tr>\n",
       "<tr>\n",
       "  <th>Model:</th>                   <td>OLS</td>       <th>  Adj. R-squared:    </th> <td>   0.507</td>\n",
       "</tr>\n",
       "<tr>\n",
       "  <th>Method:</th>             <td>Least Squares</td>  <th>  F-statistic:       </th> <td>   46.27</td>\n",
       "</tr>\n",
       "<tr>\n",
       "  <th>Date:</th>             <td>Fri, 09 Jul 2021</td> <th>  Prob (F-statistic):</th> <td>3.83e-62</td>\n",
       "</tr>\n",
       "<tr>\n",
       "  <th>Time:</th>                 <td>08:51:34</td>     <th>  Log-Likelihood:    </th> <td> -2386.0</td>\n",
       "</tr>\n",
       "<tr>\n",
       "  <th>No. Observations:</th>      <td>   442</td>      <th>  AIC:               </th> <td>   4794.</td>\n",
       "</tr>\n",
       "<tr>\n",
       "  <th>Df Residuals:</th>          <td>   431</td>      <th>  BIC:               </th> <td>   4839.</td>\n",
       "</tr>\n",
       "<tr>\n",
       "  <th>Df Model:</th>              <td>    10</td>      <th>                     </th>     <td> </td>   \n",
       "</tr>\n",
       "<tr>\n",
       "  <th>Covariance Type:</th>      <td>nonrobust</td>    <th>                     </th>     <td> </td>   \n",
       "</tr>\n",
       "</table>\n",
       "<table class=\"simpletable\">\n",
       "<tr>\n",
       "      <td></td>         <th>coef</th>     <th>std err</th>      <th>t</th>      <th>P>|t|</th>  <th>[0.025</th>    <th>0.975]</th>  \n",
       "</tr>\n",
       "<tr>\n",
       "  <th>Intercept</th> <td>  152.1335</td> <td>    2.576</td> <td>   59.061</td> <td> 0.000</td> <td>  147.071</td> <td>  157.196</td>\n",
       "</tr>\n",
       "<tr>\n",
       "  <th>age</th>       <td>  -10.0122</td> <td>   59.749</td> <td>   -0.168</td> <td> 0.867</td> <td> -127.448</td> <td>  107.424</td>\n",
       "</tr>\n",
       "<tr>\n",
       "  <th>sex</th>       <td> -239.8191</td> <td>   61.222</td> <td>   -3.917</td> <td> 0.000</td> <td> -360.151</td> <td> -119.488</td>\n",
       "</tr>\n",
       "<tr>\n",
       "  <th>bmi</th>       <td>  519.8398</td> <td>   66.534</td> <td>    7.813</td> <td> 0.000</td> <td>  389.069</td> <td>  650.610</td>\n",
       "</tr>\n",
       "<tr>\n",
       "  <th>bp</th>        <td>  324.3904</td> <td>   65.422</td> <td>    4.958</td> <td> 0.000</td> <td>  195.805</td> <td>  452.976</td>\n",
       "</tr>\n",
       "<tr>\n",
       "  <th>s1</th>        <td> -792.1842</td> <td>  416.684</td> <td>   -1.901</td> <td> 0.058</td> <td>-1611.169</td> <td>   26.801</td>\n",
       "</tr>\n",
       "<tr>\n",
       "  <th>s2</th>        <td>  476.7458</td> <td>  339.035</td> <td>    1.406</td> <td> 0.160</td> <td> -189.621</td> <td> 1143.113</td>\n",
       "</tr>\n",
       "<tr>\n",
       "  <th>s3</th>        <td>  101.0446</td> <td>  212.533</td> <td>    0.475</td> <td> 0.635</td> <td> -316.685</td> <td>  518.774</td>\n",
       "</tr>\n",
       "<tr>\n",
       "  <th>s4</th>        <td>  177.0642</td> <td>  161.476</td> <td>    1.097</td> <td> 0.273</td> <td> -140.313</td> <td>  494.442</td>\n",
       "</tr>\n",
       "<tr>\n",
       "  <th>s5</th>        <td>  751.2793</td> <td>  171.902</td> <td>    4.370</td> <td> 0.000</td> <td>  413.409</td> <td> 1089.150</td>\n",
       "</tr>\n",
       "<tr>\n",
       "  <th>s6</th>        <td>   67.6254</td> <td>   65.984</td> <td>    1.025</td> <td> 0.306</td> <td>  -62.065</td> <td>  197.316</td>\n",
       "</tr>\n",
       "</table>\n",
       "<table class=\"simpletable\">\n",
       "<tr>\n",
       "  <th>Omnibus:</th>       <td> 1.506</td> <th>  Durbin-Watson:     </th> <td>   2.029</td>\n",
       "</tr>\n",
       "<tr>\n",
       "  <th>Prob(Omnibus):</th> <td> 0.471</td> <th>  Jarque-Bera (JB):  </th> <td>   1.404</td>\n",
       "</tr>\n",
       "<tr>\n",
       "  <th>Skew:</th>          <td> 0.017</td> <th>  Prob(JB):          </th> <td>   0.496</td>\n",
       "</tr>\n",
       "<tr>\n",
       "  <th>Kurtosis:</th>      <td> 2.726</td> <th>  Cond. No.          </th> <td>    227.</td>\n",
       "</tr>\n",
       "</table><br/><br/>Notes:<br/>[1] Standard Errors assume that the covariance matrix of the errors is correctly specified."
      ],
      "text/plain": [
       "<class 'statsmodels.iolib.summary.Summary'>\n",
       "\"\"\"\n",
       "                            OLS Regression Results                            \n",
       "==============================================================================\n",
       "Dep. Variable:                 target   R-squared:                       0.518\n",
       "Model:                            OLS   Adj. R-squared:                  0.507\n",
       "Method:                 Least Squares   F-statistic:                     46.27\n",
       "Date:                Fri, 09 Jul 2021   Prob (F-statistic):           3.83e-62\n",
       "Time:                        08:51:34   Log-Likelihood:                -2386.0\n",
       "No. Observations:                 442   AIC:                             4794.\n",
       "Df Residuals:                     431   BIC:                             4839.\n",
       "Df Model:                          10                                         \n",
       "Covariance Type:            nonrobust                                         \n",
       "==============================================================================\n",
       "                 coef    std err          t      P>|t|      [0.025      0.975]\n",
       "------------------------------------------------------------------------------\n",
       "Intercept    152.1335      2.576     59.061      0.000     147.071     157.196\n",
       "age          -10.0122     59.749     -0.168      0.867    -127.448     107.424\n",
       "sex         -239.8191     61.222     -3.917      0.000    -360.151    -119.488\n",
       "bmi          519.8398     66.534      7.813      0.000     389.069     650.610\n",
       "bp           324.3904     65.422      4.958      0.000     195.805     452.976\n",
       "s1          -792.1842    416.684     -1.901      0.058   -1611.169      26.801\n",
       "s2           476.7458    339.035      1.406      0.160    -189.621    1143.113\n",
       "s3           101.0446    212.533      0.475      0.635    -316.685     518.774\n",
       "s4           177.0642    161.476      1.097      0.273    -140.313     494.442\n",
       "s5           751.2793    171.902      4.370      0.000     413.409    1089.150\n",
       "s6            67.6254     65.984      1.025      0.306     -62.065     197.316\n",
       "==============================================================================\n",
       "Omnibus:                        1.506   Durbin-Watson:                   2.029\n",
       "Prob(Omnibus):                  0.471   Jarque-Bera (JB):                1.404\n",
       "Skew:                           0.017   Prob(JB):                        0.496\n",
       "Kurtosis:                       2.726   Cond. No.                         227.\n",
       "==============================================================================\n",
       "\n",
       "Notes:\n",
       "[1] Standard Errors assume that the covariance matrix of the errors is correctly specified.\n",
       "\"\"\""
      ]
     },
     "execution_count": 49,
     "metadata": {},
     "output_type": "execute_result"
    }
   ],
   "source": [
    "model2 = ols(formula,df).fit()\n",
    "model2.summary()"
   ]
  },
  {
   "cell_type": "markdown",
   "metadata": {},
   "source": [
    "Did adding the full suite of independent features improve our model?"
   ]
  },
  {
   "cell_type": "markdown",
   "metadata": {},
   "source": [
    "> Increased multicollinearity and several features are statistically insignificant"
   ]
  },
  {
   "cell_type": "markdown",
   "metadata": {},
   "source": [
    "---"
   ]
  },
  {
   "cell_type": "code",
   "execution_count": 50,
   "metadata": {
    "ExecuteTime": {
     "end_time": "2021-07-09T12:51:34.402247Z",
     "start_time": "2021-07-09T12:51:34.389246Z"
    }
   },
   "outputs": [
    {
     "data": {
      "text/plain": [
       "'target~age+sex+bmi+bp+s1+s2+s3+s4+s5+s6'"
      ]
     },
     "execution_count": 50,
     "metadata": {},
     "output_type": "execute_result"
    }
   ],
   "source": [
    "## assuming datatypes are already set properly (int/float/str/bool) for patsy\n",
    "\n",
    "\n",
    "target = 'target'\n",
    "drop_cols = [target]\n",
    "\n",
    "## Specifying parameters string for formula \n",
    "formula = f'{target}~'+'+'.join(df.drop(drop_cols,axis=1).columns)\n",
    "formula"
   ]
  },
  {
   "cell_type": "code",
   "execution_count": 51,
   "metadata": {
    "ExecuteTime": {
     "end_time": "2021-07-09T12:51:34.448259Z",
     "start_time": "2021-07-09T12:51:34.405249Z"
    }
   },
   "outputs": [],
   "source": [
    "## Fit first model\n",
    "model = ols(formula,df).fit()"
   ]
  },
  {
   "cell_type": "code",
   "execution_count": 52,
   "metadata": {
    "ExecuteTime": {
     "end_time": "2021-07-09T12:51:34.463249Z",
     "start_time": "2021-07-09T12:51:34.452252Z"
    }
   },
   "outputs": [
    {
     "data": {
      "text/plain": [
       "['target', 'age', 's1', 's2', 's3', 's4', 's6']"
      ]
     },
     "metadata": {},
     "output_type": "display_data"
    }
   ],
   "source": [
    "## Filter params for p-vales > alpha, append to drop list\n",
    "for i in list(model.pvalues.items()):\n",
    "    if i[1] > alpha:\n",
    "        drop_cols.append(i[0])\n",
    "\n",
    "display(drop_cols)"
   ]
  },
  {
   "cell_type": "code",
   "execution_count": 53,
   "metadata": {
    "ExecuteTime": {
     "end_time": "2021-07-09T12:51:34.495247Z",
     "start_time": "2021-07-09T12:51:34.466249Z"
    }
   },
   "outputs": [
    {
     "name": "stdout",
     "output_type": "stream",
     "text": [
      "Parameter: Intercept, P-value: 2.3241241590054242e-206\n",
      "Parameter: sex, P-value: 0.017430542054257064\n",
      "Parameter: bmi, P-value: 7.043487602850642e-19\n",
      "Parameter: bp, P-value: 6.005859263205379e-06\n",
      "Parameter: s5, P-value: 1.3805821200833078e-16\n"
     ]
    }
   ],
   "source": [
    "## Re-run model with updated drop list to re-eval p-vals\n",
    "model = ols(f'{target}~'+'+'.join(df.drop(drop_cols,axis=1).columns),df).fit()\n",
    "\n",
    "for i in list(model.pvalues.items()):\n",
    "    if i[1] > alpha:\n",
    "        print(i)\n",
    "    else:\n",
    "        print(f'Parameter: {i[0]}, P-value: {i[1]}')"
   ]
  },
  {
   "cell_type": "code",
   "execution_count": 54,
   "metadata": {
    "ExecuteTime": {
     "end_time": "2021-07-09T12:51:34.511249Z",
     "start_time": "2021-07-09T12:51:34.497249Z"
    }
   },
   "outputs": [],
   "source": [
    "## Loop through results for any new high p-values and append\n",
    "for i in list(model.pvalues.items()):\n",
    "    if i[1] > alpha and i[1] not in drop_cols:\n",
    "        drop_cols.append(i[0])"
   ]
  },
  {
   "cell_type": "code",
   "execution_count": 55,
   "metadata": {
    "ExecuteTime": {
     "end_time": "2021-07-09T12:51:34.526247Z",
     "start_time": "2021-07-09T12:51:34.514249Z"
    }
   },
   "outputs": [
    {
     "data": {
      "text/plain": [
       "bmi    598.279349\n",
       "s5     554.434307\n",
       "bp     292.976081\n",
       "sex   -136.760319\n",
       "dtype: float64"
      ]
     },
     "execution_count": 55,
     "metadata": {},
     "output_type": "execute_result"
    }
   ],
   "source": [
    "## Display final results in descending order\n",
    "model.params.sort_values(ascending=False).drop('Intercept')"
   ]
  },
  {
   "cell_type": "code",
   "execution_count": null,
   "metadata": {},
   "outputs": [],
   "source": []
  }
 ],
 "metadata": {
  "kernelspec": {
   "display_name": "Python (learn-env-bmc)",
   "language": "python",
   "name": "learn-env-bmc"
  },
  "language_info": {
   "codemirror_mode": {
    "name": "ipython",
    "version": 3
   },
   "file_extension": ".py",
   "mimetype": "text/x-python",
   "name": "python",
   "nbconvert_exporter": "python",
   "pygments_lexer": "ipython3",
   "version": "3.8.5"
  },
  "name": "index.ipynb",
  "toc": {
   "base_numbering": 1,
   "nav_menu": {},
   "number_sections": true,
   "sideBar": true,
   "skip_h1_title": false,
   "title_cell": "Table of Contents",
   "title_sidebar": "Contents",
   "toc_cell": false,
   "toc_position": {
    "height": "calc(100% - 180px)",
    "left": "10px",
    "top": "150px",
    "width": "165px"
   },
   "toc_section_display": true,
   "toc_window_display": true
  }
 },
 "nbformat": 4,
 "nbformat_minor": 4
}
